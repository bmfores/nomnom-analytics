{
 "cells": [
  {
   "cell_type": "code",
   "execution_count": 36,
   "id": "37066433-37f8-433a-8270-7e137b2dd56c",
   "metadata": {
    "editable": true,
    "slideshow": {
     "slide_type": ""
    },
    "tags": []
   },
   "outputs": [],
   "source": [
    "# Load necessary library\n",
    "library(dplyr)\n",
    "library(readr)\n",
    "library(stringr)"
   ]
  },
  {
   "cell_type": "code",
   "execution_count": 46,
   "id": "3e21c32a-7bea-442b-ab1c-687d2921c818",
   "metadata": {},
   "outputs": [],
   "source": [
    "# Load required libraries\n",
    "library(stringr)\n",
    "library(readr)\n",
    "\n",
    "# Specify the path to the input text file\n",
    "input_file <- \"data/_chat.txt\"\n",
    "\n",
    "# Specify the path to the output CSV file\n",
    "output_file <- \"data/formatted.csv\"\n",
    "\n",
    "# Read the text file\n",
    "raw_text <- readLines(input_file, encoding = \"Windows-1252\")\n",
    "\n",
    "# Split the raw text into individual lines\n",
    "lines <- str_split(raw_text, pattern = \"\\n\", simplify = TRUE)\n",
    "\n",
    "# Split each line into columns using the separator (e.g., \":\") present in your WhatsApp chat format\n",
    "# Adjust the separator as per your chat format\n",
    "chat_data <- str_split(lines, pattern = \":\", simplify = TRUE)\n",
    "\n",
    "# Convert the chat data to a data frame\n",
    "chat_df <- as.data.frame(chat_data, stringsAsFactors = FALSE)\n",
    "\n",
    "# Write the data frame to a CSV file\n",
    "write_csv(chat_df, output_file)"
   ]
  },
  {
   "cell_type": "code",
   "execution_count": 38,
   "id": "af2c28f0-238b-48f6-ba00-08a90a0e7bc6",
   "metadata": {},
   "outputs": [],
   "source": [
    "# Read the data from the file\n",
    "file_path <- \"data/_chat.txt\"\n",
    "chat_data <- readLines(con = file_path, encoding = \"Windows-1252\")"
   ]
  },
  {
   "cell_type": "code",
   "execution_count": 40,
   "id": "2d17af33-c469-4822-a54d-ff048aff03ab",
   "metadata": {},
   "outputs": [
    {
     "name": "stdout",
     "output_type": "stream",
     "text": [
      "The formatted chat data has been saved as 'formatted_chat_data.csv'\n"
     ]
    }
   ],
   "source": [
    "# Define regex pattern to split components\n",
    "pattern <- \"^\\\\[(\\\\d{1,2}/\\\\d{1,2}/\\\\d{2}), (\\\\d{2}:\\\\d{2}:\\\\d{2})\\\\] (.+?): (.*)$\"\n",
    "\n",
    "# Extract components\n",
    "extracted_data <- do.call(rbind, lapply(chat_data, function(x) {\n",
    "  components <- regmatches(x, regexec(pattern, x))[[1]]\n",
    "  if (length(components) == 5) {\n",
    "    return(data.frame(\n",
    "      Date = as.Date(components[2], format = \"%m/%d/%y\"),\n",
    "      Time = components[3],\n",
    "      Contact = components[4],\n",
    "      Content = components[5]\n",
    "    ))\n",
    "  } else {\n",
    "    return(NULL)\n",
    "  }\n",
    "}))\n",
    "\n",
    "# Write the data to a CSV file\n",
    "write.csv(extracted_data, \"data/formatted_chat_data.csv\")\n",
    "\n",
    "# Output a message indicating that the file has been saved\n",
    "cat(\"The formatted chat data has been saved as 'formatted_chat_data.csv'\\n\")"
   ]
  },
  {
   "cell_type": "code",
   "execution_count": null,
   "id": "cb891237-c03a-455f-8c32-0b52e12fa6e1",
   "metadata": {},
   "outputs": [],
   "source": []
  }
 ],
 "metadata": {
  "kernelspec": {
   "display_name": "R",
   "language": "R",
   "name": "ir"
  },
  "language_info": {
   "codemirror_mode": "r",
   "file_extension": ".r",
   "mimetype": "text/x-r-source",
   "name": "R",
   "pygments_lexer": "r",
   "version": "4.2.2"
  }
 },
 "nbformat": 4,
 "nbformat_minor": 5
}
